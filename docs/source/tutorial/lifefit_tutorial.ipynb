{
 "cells": [
  {
   "cell_type": "markdown",
   "metadata": {},
   "source": [
    "# Lifefit Tutorial"
   ]
  },
  {
   "cell_type": "code",
   "execution_count": 1,
   "metadata": {},
   "outputs": [],
   "source": [
    "# import modules\n",
    "import lifefit as lf\n",
    "import numpy as np\n",
    "import matplotlib.pyplot as plt\n",
    "import seaborn as sns\n",
    "import os\n",
    "\n",
    "# seaborn settings\n",
    "sns.set_style('white')\n",
    "sns.set_context(\"notebook\")\n",
    "sns.set(font='Arial')\n",
    "\n",
    "# plot settings\n",
    "def set_ticksStyle(x_size=4, y_size=4, x_dir='in', y_dir='in'):\n",
    "    sns.set_style('ticks', {'xtick.major.size': x_size, 'ytick.major.size': y_size, 'xtick.direction': x_dir, 'ytick.direction': y_dir})"
   ]
  },
  {
   "cell_type": "markdown",
   "metadata": {},
   "source": [
    "## Lifetime\n",
    "First, define the path to the data"
   ]
  },
  {
   "cell_type": "code",
   "execution_count": 23,
   "metadata": {},
   "outputs": [],
   "source": [
    "atto550_dna_path = lf._DATA_DIR+'/lifetime/Atto550_DNA.txt'\n",
    "irf_path = lf._DATA_DIR+'/IRF/irf.txt'"
   ]
  },
  {
   "cell_type": "markdown",
   "metadata": {},
   "source": [
    "Next, we read in our datafile for the fluorescence decay and the instrument response function (IRF). Instead of using the `lf.read_decay()` function we can define a custom import function that outputs a two-column array containing numbered channels and intensity counts."
   ]
  },
  {
   "cell_type": "code",
   "execution_count": 24,
   "metadata": {},
   "outputs": [],
   "source": [
    "atto550_dna, timestep_ns = lf.tcspc.read_decay(atto550_dna_path)\n",
    "irf, _ = lf.tcspc.read_decay(irf_path)"
   ]
  },
  {
   "cell_type": "markdown",
   "metadata": {},
   "source": [
    "Next we instantiate a `Lifetime object` by rpoviding the data arrays of the fluorescence decay and the IRF along with the timestep between two channels"
   ]
  },
  {
   "cell_type": "code",
   "execution_count": 25,
   "metadata": {},
   "outputs": [],
   "source": [
    "atto550_dna_life = lf.tcspc.Lifetime(atto550_dna, timestep_ns, irf)"
   ]
  },
  {
   "cell_type": "markdown",
   "metadata": {},
   "source": [
    "Fit the fluorecence decay by iterative reconvolution with the IRF"
   ]
  },
  {
   "cell_type": "code",
   "execution_count": 26,
   "metadata": {},
   "outputs": [
    {
     "name": "stdout",
     "output_type": "stream",
     "text": [
      "=======================================\n",
      "Reconvolution fit with experimental IRF\n",
      "tau0: 1.01 ± 0.01 ns (29%)\n",
      "tau1: 3.89 ± 0.01 ns (71%)\n",
      "mean tau: 3.61 ± 0.01 ns\n",
      "\n",
      "irf shift: 0.11 ns\n",
      "offset: 1 counts\n",
      "=======================================\n"
     ]
    }
   ],
   "source": [
    "atto550_dna_life.reconvolution_fit([1,5])"
   ]
  },
  {
   "cell_type": "markdown",
   "metadata": {},
   "source": [
    "Plot the IRF, the fluorescence decay and the fit"
   ]
  },
  {
   "cell_type": "code",
   "execution_count": 27,
   "metadata": {},
   "outputs": [
    {
     "data": {
      "image/png": "[encoded data removed]",
      "text/plain": [
       "<Figure size 180x162 with 1 Axes>"
      ]
     },
     "metadata": {},
     "output_type": "display_data"
    }
   ],
   "source": [
    "with sns.axes_style('ticks'):\n",
    "    set_ticksStyle()\n",
    "    f, ax = plt.subplots(nrows=1, ncols=1, figsize=(2.5,2.25), sharex=False, sharey=True, squeeze=False)\n",
    "    \n",
    "    ax[0,0].semilogy(atto550_dna_life.fluor[:,0], atto550_dna_life.fluor[:,2], color=[0.45, 0.57, 0.44])\n",
    "    ax[0,0].semilogy(atto550_dna_life.irf[:,0], atto550_dna_life.irf[:,2], color=[0.7,0.7,0.7])\n",
    "    ax[0,0].semilogy(atto550_dna_life.fluor[:,0], atto550_dna_life.fit_y, color='k')\n",
    "    \n",
    "    ax[0,0].set_ylabel('counts')\n",
    "    ax[0,0].set_xlabel('time (ns)')\n",
    "    ax[0,0].set_xlim((20,80))\n",
    "    ax[0,0].set_ylim(bottom=1)"
   ]
  },
  {
   "cell_type": "markdown",
   "metadata": {},
   "source": [
    "## Anisotropy\n",
    "Read the four different fluorescence decays and generate a `lifetime object` from each channel"
   ]
  },
  {
   "cell_type": "code",
   "execution_count": 29,
   "metadata": {},
   "outputs": [],
   "source": [
    "atto550_dna_path = {}\n",
    "atto550_dna = {}\n",
    "atto550_dna_life = {}\n",
    "for c in ['VV','VH','HV','HH']:\n",
    "    atto550_dna_path[c] = lf._DATA_DIR+'/anisotropy/{}.txt'.format(c)\n",
    "    atto550_dna[c], fluor_nsperchan = lf.tcspc.read_decay(atto550_dna_path[c])\n",
    "    atto550_dna_life[c] = lf.tcspc.Lifetime(atto550_dna[c], fluor_nsperchan, irf)"
   ]
  },
  {
   "cell_type": "markdown",
   "metadata": {},
   "source": [
    "Compute an `anisotropy object` from the lifetime objects and fit a two-rotator model to the anisotropy decay"
   ]
  },
  {
   "cell_type": "code",
   "execution_count": 30,
   "metadata": {},
   "outputs": [
    {
     "name": "stdout",
     "output_type": "stream",
     "text": [
      "====================\n",
      "Anisotropy fit\n",
      "model: two_rotations\n",
      "r0: 0.19 ± 0.01 ns\n",
      "b: 0.00 ± 0.02 ns\n",
      "tau: 8.50 ± 0.45 ns\n",
      "tau2: 1.57 ± 0.14 ns\n",
      "====================\n"
     ]
    }
   ],
   "source": [
    "atto550_dna_aniso = lf.tcspc.Anisotropy(atto550_dna_life['VV'], atto550_dna_life['VH'], atto550_dna_life['HV'],atto550_dna_life['HH'])\n",
    "atto550_dna_aniso.rotation_fit(p0=[0.4, 1, 10,1], model='two_rotations')"
   ]
  },
  {
   "cell_type": "markdown",
   "metadata": {},
   "source": [
    "Plot the anisotropy decay with the fit"
   ]
  },
  {
   "cell_type": "code",
   "execution_count": 31,
   "metadata": {},
   "outputs": [
    {
     "data": {
      "image/png": "[encoded data removed]",
      "text/plain": [
       "<Figure size 180x162 with 1 Axes>"
      ]
     },
     "metadata": {},
     "output_type": "display_data"
    }
   ],
   "source": [
    "with sns.axes_style('ticks'):\n",
    "    set_ticksStyle()\n",
    "    f, ax = plt.subplots(nrows=1, ncols=1, figsize=(2.5,2.25), sharex=False, sharey=True, squeeze=False)\n",
    "    \n",
    "    ax[0,0].plot(atto550_dna_aniso.time, atto550_dna_aniso.r, color=[0.45, 0.57, 0.44])\n",
    "    ax[0,0].plot(atto550_dna_aniso.time, atto550_dna_aniso.fit_r, color='k')\n",
    "    ax[0,0].set_ylim((-0.05,0.4))\n",
    "    ax[0,0].set_xlabel('time (ns)')\n",
    "    ax[0,0].set_ylabel('anisotropy')"
   ]
  }
 ],
 "metadata": {
  "kernelspec": {
   "display_name": "Python 3",
   "language": "python",
   "name": "python3"
  },
  "language_info": {
   "codemirror_mode": {
    "name": "ipython",
    "version": 3
   },
   "file_extension": ".py",
   "mimetype": "text/x-python",
   "name": "python",
   "nbconvert_exporter": "python",
   "pygments_lexer": "ipython3",
   "version": "3.7.5"
  }
 },
 "nbformat": 4,
 "nbformat_minor": 2
}
